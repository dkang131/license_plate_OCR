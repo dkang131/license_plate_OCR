{
 "cells": [
  {
   "cell_type": "code",
   "execution_count": 2,
   "metadata": {},
   "outputs": [],
   "source": [
    "import easyocr\n",
    "import cv2\n",
    "import pandas as pd\n",
    "from sklearn.metrics import accuracy_score\n",
    "from sklearn.model_selection import train_test_split\n",
    "import os\n",
    "import pytesseract\n",
    "from PIL import Image\n",
    "import numpy as np\n",
    "import matplotlib.pyplot as plt"
   ]
  },
  {
   "cell_type": "code",
   "execution_count": 3,
   "metadata": {},
   "outputs": [],
   "source": [
    "pd.set_option('display.max_colwidth', None)"
   ]
  },
  {
   "cell_type": "markdown",
   "metadata": {},
   "source": [
    "## Import CSV File"
   ]
  },
  {
   "cell_type": "code",
   "execution_count": 4,
   "metadata": {},
   "outputs": [
    {
     "data": {
      "text/html": [
       "<div>\n",
       "<style scoped>\n",
       "    .dataframe tbody tr th:only-of-type {\n",
       "        vertical-align: middle;\n",
       "    }\n",
       "\n",
       "    .dataframe tbody tr th {\n",
       "        vertical-align: top;\n",
       "    }\n",
       "\n",
       "    .dataframe thead th {\n",
       "        text-align: right;\n",
       "    }\n",
       "</style>\n",
       "<table border=\"1\" class=\"dataframe\">\n",
       "  <thead>\n",
       "    <tr style=\"text-align: right;\">\n",
       "      <th></th>\n",
       "      <th>images</th>\n",
       "      <th>labels</th>\n",
       "    </tr>\n",
       "  </thead>\n",
       "  <tbody>\n",
       "    <tr>\n",
       "      <th>0</th>\n",
       "      <td>1.jpg</td>\n",
       "      <td>RZ0047</td>\n",
       "    </tr>\n",
       "    <tr>\n",
       "      <th>1</th>\n",
       "      <td>10.jpg</td>\n",
       "      <td>V95246</td>\n",
       "    </tr>\n",
       "    <tr>\n",
       "      <th>2</th>\n",
       "      <td>100.jpg</td>\n",
       "      <td>6258TU</td>\n",
       "    </tr>\n",
       "    <tr>\n",
       "      <th>3</th>\n",
       "      <td>10000.jpg</td>\n",
       "      <td>B88082</td>\n",
       "    </tr>\n",
       "    <tr>\n",
       "      <th>4</th>\n",
       "      <td>10001.jpg</td>\n",
       "      <td>7065UK</td>\n",
       "    </tr>\n",
       "  </tbody>\n",
       "</table>\n",
       "</div>"
      ],
      "text/plain": [
       "      images  labels\n",
       "0      1.jpg  RZ0047\n",
       "1     10.jpg  V95246\n",
       "2    100.jpg  6258TU\n",
       "3  10000.jpg  B88082\n",
       "4  10001.jpg  7065UK"
      ]
     },
     "execution_count": 4,
     "metadata": {},
     "output_type": "execute_result"
    }
   ],
   "source": [
    "label = pd.read_csv('license_plate_dataset\\lpr.csv')\n",
    "label.head()"
   ]
  },
  {
   "cell_type": "markdown",
   "metadata": {},
   "source": [
    "##  Define Image and Label Path"
   ]
  },
  {
   "cell_type": "code",
   "execution_count": 5,
   "metadata": {},
   "outputs": [
    {
     "data": {
      "text/html": [
       "<div>\n",
       "<style scoped>\n",
       "    .dataframe tbody tr th:only-of-type {\n",
       "        vertical-align: middle;\n",
       "    }\n",
       "\n",
       "    .dataframe tbody tr th {\n",
       "        vertical-align: top;\n",
       "    }\n",
       "\n",
       "    .dataframe thead th {\n",
       "        text-align: right;\n",
       "    }\n",
       "</style>\n",
       "<table border=\"1\" class=\"dataframe\">\n",
       "  <thead>\n",
       "    <tr style=\"text-align: right;\">\n",
       "      <th></th>\n",
       "      <th>image_filename</th>\n",
       "      <th>label</th>\n",
       "      <th>image_path</th>\n",
       "    </tr>\n",
       "  </thead>\n",
       "  <tbody>\n",
       "    <tr>\n",
       "      <th>0</th>\n",
       "      <td>1.jpg</td>\n",
       "      <td>RZ0047</td>\n",
       "      <td>license_plate_dataset\\cropped_lps\\cropped_lps\\1.jpg</td>\n",
       "    </tr>\n",
       "    <tr>\n",
       "      <th>1</th>\n",
       "      <td>10.jpg</td>\n",
       "      <td>V95246</td>\n",
       "      <td>license_plate_dataset\\cropped_lps\\cropped_lps\\10.jpg</td>\n",
       "    </tr>\n",
       "    <tr>\n",
       "      <th>2</th>\n",
       "      <td>100.jpg</td>\n",
       "      <td>6258TU</td>\n",
       "      <td>license_plate_dataset\\cropped_lps\\cropped_lps\\100.jpg</td>\n",
       "    </tr>\n",
       "    <tr>\n",
       "      <th>3</th>\n",
       "      <td>10000.jpg</td>\n",
       "      <td>B88082</td>\n",
       "      <td>license_plate_dataset\\cropped_lps\\cropped_lps\\10000.jpg</td>\n",
       "    </tr>\n",
       "    <tr>\n",
       "      <th>4</th>\n",
       "      <td>10001.jpg</td>\n",
       "      <td>7065UK</td>\n",
       "      <td>license_plate_dataset\\cropped_lps\\cropped_lps\\10001.jpg</td>\n",
       "    </tr>\n",
       "  </tbody>\n",
       "</table>\n",
       "</div>"
      ],
      "text/plain": [
       "  image_filename   label  \\\n",
       "0          1.jpg  RZ0047   \n",
       "1         10.jpg  V95246   \n",
       "2        100.jpg  6258TU   \n",
       "3      10000.jpg  B88082   \n",
       "4      10001.jpg  7065UK   \n",
       "\n",
       "                                                image_path  \n",
       "0      license_plate_dataset\\cropped_lps\\cropped_lps\\1.jpg  \n",
       "1     license_plate_dataset\\cropped_lps\\cropped_lps\\10.jpg  \n",
       "2    license_plate_dataset\\cropped_lps\\cropped_lps\\100.jpg  \n",
       "3  license_plate_dataset\\cropped_lps\\cropped_lps\\10000.jpg  \n",
       "4  license_plate_dataset\\cropped_lps\\cropped_lps\\10001.jpg  "
      ]
     },
     "execution_count": 5,
     "metadata": {},
     "output_type": "execute_result"
    }
   ],
   "source": [
    "image_path = 'license_plate_dataset\\cropped_lps\\cropped_lps'\n",
    "\n",
    "label_path = 'license_plate_dataset\\lpr.csv'\n",
    "\n",
    "label_df = pd.read_csv(label_path, header=None, names=['image_filename','label'])\n",
    "\n",
    "label_df['image_path'] = label_df['image_filename'].apply(lambda x: os.path.join(image_path, x))\n",
    "label_df = label_df.drop(label_df.index[0])\n",
    "label_df = label_df.reset_index(drop=True)\n",
    "label_df.head()"
   ]
  },
  {
   "cell_type": "markdown",
   "metadata": {},
   "source": [
    "## Tesseract OCR"
   ]
  },
  {
   "cell_type": "code",
   "execution_count": 25,
   "metadata": {},
   "outputs": [],
   "source": [
    "# Set Tesseract executable path\n",
    "pytesseract.pytesseract.tesseract_cmd = r'C:/Program Files/Tesseract-OCR/tesseract.exe'\n",
    "\n",
    "def perform_ocr_with_tesseract(image_path):\n",
    "    \n",
    "    img = Image.open(image_path)\n",
    "   \n",
    "    text = pytesseract.image_to_string(img, lang='eng')\n",
    "    return text.strip()"
   ]
  },
  {
   "cell_type": "code",
   "execution_count": 26,
   "metadata": {},
   "outputs": [],
   "source": [
    "def process_and_evaluate(df):\n",
    "    labels = []\n",
    "    predictions = []\n",
    "\n",
    "    for index, row in df.iterrows():\n",
    "        image_path = row['image_path']  \n",
    "        label = row['label']  \n",
    "\n",
    "        tesseract_ocr_result = perform_ocr_with_tesseract(image_path)\n",
    "\n",
    "        labels.append(label)\n",
    "        predictions.append(tesseract_ocr_result)\n",
    "\n",
    "        print(f'Image: {image_path}')\n",
    "        print(f'Label: {label}')\n",
    "        print(f'Tesseract OCR Result: {tesseract_ocr_result}')\n",
    "        print('---')\n",
    "\n",
    "    return labels, predictions"
   ]
  },
  {
   "cell_type": "code",
   "execution_count": null,
   "metadata": {},
   "outputs": [],
   "source": [
    "labels, predictions = process_and_evaluate(label_df)\n",
    "\n",
    "accuracy = accuracy_score(labels, predictions)\n",
    "\n",
    "print(f'Tesseract Accuracy: {accuracy}')"
   ]
  },
  {
   "cell_type": "markdown",
   "metadata": {},
   "source": [
    "## Sharpen Images"
   ]
  },
  {
   "cell_type": "code",
   "execution_count": 10,
   "metadata": {},
   "outputs": [
    {
     "name": "stdout",
     "output_type": "stream",
     "text": [
      "Finished saving sharpened image saved in sharpened_images\n"
     ]
    }
   ],
   "source": [
    "# Function to sharpen the image\n",
    "def sharpen_image(image):\n",
    "    # Create the sharpening kernel\n",
    "    kernel = np.array([[0, -1, 0], [-1, 5, -1], [0, -1, 0]])\n",
    "    # Sharpen the image\n",
    "    sharpened_image = cv2.filter2D(image, -1, kernel)\n",
    "    return sharpened_image\n",
    "\n",
    "\n",
    "image_paths = label_df['image_path'].tolist()\n",
    "\n",
    "sharpened_folder = 'sharpened_images'\n",
    "os.makedirs(sharpened_folder, exist_ok=True)\n",
    "\n",
    "# Iterate through the image paths\n",
    "for i, image_path in enumerate(image_paths):\n",
    "    # Load the image\n",
    "    image = cv2.imread(image_path)\n",
    "    \n",
    "    # Sharpen the image\n",
    "    sharpened_image = sharpen_image(image)\n",
    "    \n",
    "    # Save the sharpened image\n",
    "    sharpened_image_path = os.path.join(sharpened_folder, f'sharpened_{i+1}.jpg')\n",
    "    cv2.imwrite(sharpened_image_path, sharpened_image)\n",
    "\n",
    "    label_df.at[i, 'sharpened_image_path'] = sharpened_image_path\n",
    "\n",
    "\n",
    "print(f\"Finished saving sharpened image saved in {sharpened_folder}\")"
   ]
  },
  {
   "cell_type": "code",
   "execution_count": 11,
   "metadata": {},
   "outputs": [
    {
     "data": {
      "text/html": [
       "<div>\n",
       "<style scoped>\n",
       "    .dataframe tbody tr th:only-of-type {\n",
       "        vertical-align: middle;\n",
       "    }\n",
       "\n",
       "    .dataframe tbody tr th {\n",
       "        vertical-align: top;\n",
       "    }\n",
       "\n",
       "    .dataframe thead th {\n",
       "        text-align: right;\n",
       "    }\n",
       "</style>\n",
       "<table border=\"1\" class=\"dataframe\">\n",
       "  <thead>\n",
       "    <tr style=\"text-align: right;\">\n",
       "      <th></th>\n",
       "      <th>image_filename</th>\n",
       "      <th>label</th>\n",
       "      <th>image_path</th>\n",
       "      <th>sharpened_image_path</th>\n",
       "    </tr>\n",
       "  </thead>\n",
       "  <tbody>\n",
       "    <tr>\n",
       "      <th>0</th>\n",
       "      <td>1.jpg</td>\n",
       "      <td>RZ0047</td>\n",
       "      <td>license_plate_dataset\\cropped_lps\\cropped_lps\\1.jpg</td>\n",
       "      <td>sharpened_images\\sharpened_1.jpg</td>\n",
       "    </tr>\n",
       "    <tr>\n",
       "      <th>1</th>\n",
       "      <td>10.jpg</td>\n",
       "      <td>V95246</td>\n",
       "      <td>license_plate_dataset\\cropped_lps\\cropped_lps\\10.jpg</td>\n",
       "      <td>sharpened_images\\sharpened_2.jpg</td>\n",
       "    </tr>\n",
       "    <tr>\n",
       "      <th>2</th>\n",
       "      <td>100.jpg</td>\n",
       "      <td>6258TU</td>\n",
       "      <td>license_plate_dataset\\cropped_lps\\cropped_lps\\100.jpg</td>\n",
       "      <td>sharpened_images\\sharpened_3.jpg</td>\n",
       "    </tr>\n",
       "    <tr>\n",
       "      <th>3</th>\n",
       "      <td>10000.jpg</td>\n",
       "      <td>B88082</td>\n",
       "      <td>license_plate_dataset\\cropped_lps\\cropped_lps\\10000.jpg</td>\n",
       "      <td>sharpened_images\\sharpened_4.jpg</td>\n",
       "    </tr>\n",
       "    <tr>\n",
       "      <th>4</th>\n",
       "      <td>10001.jpg</td>\n",
       "      <td>7065UK</td>\n",
       "      <td>license_plate_dataset\\cropped_lps\\cropped_lps\\10001.jpg</td>\n",
       "      <td>sharpened_images\\sharpened_5.jpg</td>\n",
       "    </tr>\n",
       "  </tbody>\n",
       "</table>\n",
       "</div>"
      ],
      "text/plain": [
       "  image_filename   label  \\\n",
       "0          1.jpg  RZ0047   \n",
       "1         10.jpg  V95246   \n",
       "2        100.jpg  6258TU   \n",
       "3      10000.jpg  B88082   \n",
       "4      10001.jpg  7065UK   \n",
       "\n",
       "                                                image_path  \\\n",
       "0      license_plate_dataset\\cropped_lps\\cropped_lps\\1.jpg   \n",
       "1     license_plate_dataset\\cropped_lps\\cropped_lps\\10.jpg   \n",
       "2    license_plate_dataset\\cropped_lps\\cropped_lps\\100.jpg   \n",
       "3  license_plate_dataset\\cropped_lps\\cropped_lps\\10000.jpg   \n",
       "4  license_plate_dataset\\cropped_lps\\cropped_lps\\10001.jpg   \n",
       "\n",
       "               sharpened_image_path  \n",
       "0  sharpened_images\\sharpened_1.jpg  \n",
       "1  sharpened_images\\sharpened_2.jpg  \n",
       "2  sharpened_images\\sharpened_3.jpg  \n",
       "3  sharpened_images\\sharpened_4.jpg  \n",
       "4  sharpened_images\\sharpened_5.jpg  "
      ]
     },
     "execution_count": 11,
     "metadata": {},
     "output_type": "execute_result"
    }
   ],
   "source": [
    "label_df.head()"
   ]
  },
  {
   "cell_type": "code",
   "execution_count": 18,
   "metadata": {},
   "outputs": [],
   "source": [
    "sharpened_image_path = 'sharpened_images'"
   ]
  },
  {
   "cell_type": "markdown",
   "metadata": {},
   "source": [
    "## OCR Using Tesseract with Sharpened Images"
   ]
  },
  {
   "cell_type": "code",
   "execution_count": 22,
   "metadata": {},
   "outputs": [],
   "source": [
    "# Set Tesseract executable path\n",
    "pytesseract.pytesseract.tesseract_cmd = r'C:/Program Files/Tesseract-OCR/tesseract.exe'\n",
    "\n",
    "def perform_ocr_with_tesseract(sharpened_image_path):\n",
    "    \n",
    "    img = Image.open(sharpened_image_path)\n",
    "    \n",
    "    text = pytesseract.image_to_string(img, lang='eng')\n",
    "    return text.strip()"
   ]
  },
  {
   "cell_type": "code",
   "execution_count": 23,
   "metadata": {},
   "outputs": [],
   "source": [
    "def process_and_evaluate(df):\n",
    "    labels = []\n",
    "    predictions = []\n",
    "\n",
    "    for index, row in df.iterrows():\n",
    "        sharpened_image_path = row['sharpened_image_path']  \n",
    "        label = row['label']  \n",
    "\n",
    "        tesseract_ocr_result = perform_ocr_with_tesseract(sharpened_image_path)\n",
    "\n",
    "        labels.append(label)\n",
    "        predictions.append(tesseract_ocr_result)\n",
    "\n",
    "        print(f'Image: {sharpened_image_path}')\n",
    "        print(f'Label: {label}')\n",
    "        print(f'Tesseract OCR Result: {tesseract_ocr_result}')\n",
    "        print('---')\n",
    "\n",
    "    return labels, predictions"
   ]
  },
  {
   "cell_type": "code",
   "execution_count": null,
   "metadata": {},
   "outputs": [],
   "source": [
    "labels, predictions = process_and_evaluate(label_df)\n",
    "\n",
    "accuracy = accuracy_score(labels, predictions)\n",
    "\n",
    "print(f'Tesseract Accuracy: {accuracy}')"
   ]
  },
  {
   "cell_type": "markdown",
   "metadata": {},
   "source": [
    "## OCR Using EasyOCR"
   ]
  },
  {
   "cell_type": "code",
   "execution_count": 6,
   "metadata": {},
   "outputs": [
    {
     "name": "stderr",
     "output_type": "stream",
     "text": [
      "Neither CUDA nor MPS are available - defaulting to CPU. Note: This module is much faster with a GPU.\n"
     ]
    }
   ],
   "source": [
    "import easyocr\n",
    "\n",
    "reader = easyocr.Reader(['en'])"
   ]
  },
  {
   "cell_type": "code",
   "execution_count": 7,
   "metadata": {},
   "outputs": [],
   "source": [
    "def preprocess_image(image_path):\n",
    "    img = cv2.imread(image_path)\n",
    "    \n",
    "    if img is None:\n",
    "        print(f\"Error: Could not load image {image_path}.\")\n",
    "        return None\n",
    "    \n",
    "    # Convert to grayscale\n",
    "    gray = cv2.cvtColor(img, cv2.COLOR_BGR2GRAY)\n",
    "    \n",
    "    # Image Binarization\n",
    "    _, binary = cv2.threshold(gray, 128, 255, cv2.THRESH_BINARY_INV)\n",
    "    \n",
    "    # Denoised the binarized image\n",
    "    denoised = cv2.fastNlMeansDenoising(binary, None, 30, 7, 21)\n",
    "    \n",
    "    return denoised\n",
    "    \n",
    "def perform_ocr(image_path):\n",
    "    preprocessed_img = preprocess_image(image_path)\n",
    "    \n",
    "    if preprocessed_img is None:\n",
    "        return \"\"\n",
    "    \n",
    "    result = reader.readtext(preprocessed_img, detail=0, paragraph=True)\n",
    "    text = ' '.join(result)\n",
    "    return text.strip()"
   ]
  },
  {
   "cell_type": "code",
   "execution_count": 12,
   "metadata": {},
   "outputs": [],
   "source": [
    "def process_and_evaluate(df):\n",
    "    labels = []\n",
    "    predictions = []\n",
    "\n",
    "    for index, row in df.iterrows():\n",
    "        image_path = row['image_path']  \n",
    "        label = row['label']  \n",
    "\n",
    "        ocr_result = perform_ocr(image_path)\n",
    "\n",
    "        labels.append(label)\n",
    "        predictions.append(ocr_result)\n",
    "\n",
    "        print(f'Image: {image_path}')\n",
    "        print(f'Label: {label}')\n",
    "        print(f'EasyOCR Result: {ocr_result}')\n",
    "        print('---')\n",
    "\n",
    "    return labels, predictions"
   ]
  },
  {
   "cell_type": "code",
   "execution_count": null,
   "metadata": {},
   "outputs": [],
   "source": [
    "labels, predictions = process_and_evaluate(label_df)\n",
    "\n",
    "# Calculate accuracy\n",
    "accuracy = accuracy_score(labels, predictions)\n",
    "\n",
    "print(f'EasyOCR Accuracy: {accuracy}')"
   ]
  },
  {
   "cell_type": "markdown",
   "metadata": {},
   "source": [
    "## Summary\n",
    "### Tesseract with Non-Sharpened Images\n",
    "Tesseract Accuracy: 0.008\n",
    "\n",
    "Run Time: 49m 17.6s\n",
    "### Tesseract with Sharpened Images\n",
    "Tesseract Accuracy: 0.00165\n",
    "\n",
    "Run Time: 48m 24.2s\n",
    "### EasyOCR with Binarization and Denoised Images\n",
    "OCR Accuracy: 0.05295\n",
    "\n",
    "Run Time: 67m 21.3s\n"
   ]
  },
  {
   "cell_type": "markdown",
   "metadata": {},
   "source": []
  }
 ],
 "metadata": {
  "kernelspec": {
   "display_name": "Python 3",
   "language": "python",
   "name": "python3"
  },
  "language_info": {
   "codemirror_mode": {
    "name": "ipython",
    "version": 3
   },
   "file_extension": ".py",
   "mimetype": "text/x-python",
   "name": "python",
   "nbconvert_exporter": "python",
   "pygments_lexer": "ipython3",
   "version": "3.11.9"
  }
 },
 "nbformat": 4,
 "nbformat_minor": 2
}
